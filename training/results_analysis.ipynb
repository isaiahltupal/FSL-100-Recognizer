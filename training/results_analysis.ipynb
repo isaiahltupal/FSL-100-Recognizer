{
 "cells": [
  {
   "cell_type": "code",
   "execution_count": 2,
   "metadata": {},
   "outputs": [],
   "source": [
    "from tqdm.auto import tqdm\n",
    "from keras.utils.np_utils import to_categorical\n",
    "\n",
    "import matplotlib.pyplot as plt\n",
    "import tensorflow as tf\n",
    "\n",
    "import pandas as pd\n",
    "import numpy as np\n",
    "import mediapipe as mp\n",
    "import imageio\n",
    "import cv2\n",
    "import os\n",
    "\n",
    "\n",
    "\n",
    "import GCN as gcn\n",
    "import STSGraph as STS\n",
    "import tools as tl\n",
    "\n"
   ]
  },
  {
   "cell_type": "code",
   "execution_count": 5,
   "metadata": {},
   "outputs": [
    {
     "name": "stdout",
     "output_type": "stream",
     "text": [
      "Model: \"model_2\"\n",
      "__________________________________________________________________________________________________\n",
      " Layer (type)                   Output Shape         Param #     Connected to                     \n",
      "==================================================================================================\n",
      " node_feature_inp_layer (InputL  [(None, 2010, 4)]   0           []                               \n",
      " ayer)                                                                                            \n",
      "                                                                                                  \n",
      " graph_adj_layer (InputLayer)   [(None, 2010, 2010)  0           []                               \n",
      "                                ]                                                                 \n",
      "                                                                                                  \n",
      " gcn_conv_4 (GCNConv)           (None, None, 24)     120         ['node_feature_inp_layer[0][0]', \n",
      "                                                                  'graph_adj_layer[0][0]']        \n",
      "                                                                                                  \n",
      " gcn_conv_5 (GCNConv)           (None, None, 16)     400         ['gcn_conv_4[0][0]',             \n",
      "                                                                  'graph_adj_layer[0][0]']        \n",
      "                                                                                                  \n",
      " global_sum_pool_2 (GlobalSumPo  (None, 16)          0           ['gcn_conv_5[0][0]']             \n",
      " ol)                                                                                              \n",
      "                                                                                                  \n",
      " dense_4 (Dense)                (None, 512)          8704        ['global_sum_pool_2[0][0]']      \n",
      "                                                                                                  \n",
      " dense_5 (Dense)                (None, 10)           5130        ['dense_4[0][0]']                \n",
      "                                                                                                  \n",
      "==================================================================================================\n",
      "Total params: 14,354\n",
      "Trainable params: 14,354\n",
      "Non-trainable params: 0\n",
      "__________________________________________________________________________________________________\n",
      "2/2 [==============================] - 1s 110ms/step - loss: 27.3347 - acc: 0.8333\n",
      "2/2 [==============================] - 1s 101ms/step\n"
     ]
    }
   ],
   "source": [
    "model_path = \"C:\\\\Users\\\\isaia\\\\code\\\\FSL-100-RECOGNIZER\\\\FSL-100-Recognizer\\\\results\\\\GREETINGmodel\"\n",
    "history_path = \"C:\\\\Users\\\\isaia\\\\code\\\\FSL-100-RECOGNIZER\\\\FSL-100-Recognizer\\\\results\\\\GREETINhistory\"\n",
    "\n",
    "#path to project\n",
    "path_to_project = \"C:\\\\Users\\\\isaia\\\\code\\\\FSL-100-RECOGNIZER\\\\FSL-100-Recognizer\\\\\"\n",
    "#path to dataset\n",
    "path_to_dataset = \"C:\\\\Users\\\\isaia\\\\code\\\\FSL-100-RECOGNIZER\\\\FSL-100-Recognizer\\\\dataset\\\\\"\n",
    "\n",
    "path_to_labels = path_to_project + \"labels.csv\"\n",
    "path_to_test = path_to_project + \"test.csv\"\n",
    "path_to_train = path_to_project + \"train.csv\"\n",
    "test = pd.read_csv(path_to_test)\n",
    "\n",
    "subset_test = test.loc[test['category']==\"GREETING\"]\n",
    "\n",
    "#X_nodes_test, _ ,Y_label_test = tl.load_data_from_df(subset_test)\n",
    "spektral_data = STS.STS_DATASET(X_nodes_test)\n",
    "\n",
    "model = gcn.gcn()\n",
    "learning_rate = .001\n",
    "lr_schedule = tf.keras.optimizers.schedules.ExponentialDecay(\n",
    "    initial_learning_rate=learning_rate,\n",
    "    decay_steps=10000,\n",
    "    decay_rate=0.9)\n",
    "    \n",
    "model.summary()\n",
    "model.load_weights(model_path)\n",
    "\n",
    "\n",
    "#test data results is a dict of {\"evaluate\":evaluate,\"predict\":predict}\n",
    "test_results = {}\n",
    "yeet = model.evaluate(spektral_data.read_as_tensor(),Y_label_test)\n",
    "test_results[\"evaluate\"] = yeet\n",
    "\n",
    "\n",
    "test_results[\"predict\"] = model.predict(x=spektral_data.read_as_tensor(),verbose=1)\n"
   ]
  },
  {
   "cell_type": "code",
   "execution_count": 28,
   "metadata": {},
   "outputs": [
    {
     "name": "stdout",
     "output_type": "stream",
     "text": [
      "('in user code:\\n\\n    File \"c:\\\\Users\\\\isaia\\\\anaconda3\\\\lib\\\\site-packages\\\\keras\\\\engine\\\\training.py\", line 2041, in predict_function  *\\n        return step_function(self, iterator)\\n    File \"c:\\\\Users\\\\isaia\\\\anaconda3\\\\lib\\\\site-packages\\\\keras\\\\engine\\\\training.py\", line 2027, in step_function  **\\n        outputs = model.distribute_strategy.run(run_step, args=(data,))\\n    File \"c:\\\\Users\\\\isaia\\\\anaconda3\\\\lib\\\\site-packages\\\\keras\\\\engine\\\\training.py\", line 2015, in run_step  **\\n        outputs = model.predict_step(data)\\n    File \"c:\\\\Users\\\\isaia\\\\anaconda3\\\\lib\\\\site-packages\\\\keras\\\\engine\\\\training.py\", line 1983, in predict_step\\n        return self(x, training=False)\\n    File \"c:\\\\Users\\\\isaia\\\\anaconda3\\\\lib\\\\site-packages\\\\keras\\\\utils\\\\traceback_utils.py\", line 70, in error_handler\\n        raise e.with_traceback(filtered_tb) from None\\n\\n    ValueError: Exception encountered when calling layer \"gcn_conv_1\" \"                 f\"(type GCNConv).\\n    \\n    Could not find matching concrete function to call loaded from the SavedModel. Got:\\n      Positional arguments (1 total):\\n        * [<tf.Tensor \\'inputs:0\\' shape=(None, 2010, 4) dtype=float32>,\\n     <tf.Tensor \\'inputs_1:0\\' shape=(None, 2010, 2010) dtype=float32>]\\n      Keyword arguments: {}\\n    \\n     Expected these arguments to match one of the following 1 option(s):\\n    \\n    Option 1:\\n      Positional arguments (1 total):\\n        * [TensorSpec(shape=(None, 2010, 4), dtype=tf.float32, name=\\'inputs/0\\'),\\n     SparseTensorSpec(TensorShape([None, None, None]), tf.float32)]\\n      Keyword arguments: {}\\n    \\n    Call arguments received by layer \"gcn_conv_1\" \"                 f\"(type GCNConv):\\n      • args=([\\'tf.Tensor(shape=(None, 2010, 4), dtype=float32)\\', \\'tf.Tensor(shape=(None, 2010, 2010), dtype=float32)\\'],)\\n      • kwargs=<class \\'inspect._empty\\'>\\n', 'stack\\x1b[1;31m---------------------------------------------------------------------------\\x1b[0m\\n\\x1b[1;31mValueError\\x1b[0m                                Traceback (most recent call last)\\n\\x1b[1;32m~\\\\AppData\\\\Local\\\\Temp\\\\ipykernel_15280\\\\224924416.py\\x1b[0m in \\x1b[0;36m<module>\\x1b[1;34m\\x1b[0m\\n\\x1b[0;32m     29\\x1b[0m \\x1b[1;33m\\x1b[0m\\x1b[0m\\n\\x1b[0;32m     30\\x1b[0m \\x1b[0mprint\\x1b[0m\\x1b[1;33m(\\x1b[0m\\x1b[1;34m\"i swear its true\"\\x1b[0m\\x1b[1;33m)\\x1b[0m\\x1b[1;33m\\x1b[0m\\x1b[1;33m\\x1b[0m\\x1b[0m\\n\\x1b[1;32m---> 31\\x1b[1;33m \\x1b[0mtest_results\\x1b[0m\\x1b[1;33m[\\x1b[0m\\x1b[1;34m\"predict\"\\x1b[0m\\x1b[1;33m]\\x1b[0m \\x1b[1;33m=\\x1b[0m \\x1b[0mmodel\\x1b[0m\\x1b[1;33m.\\x1b[0m\\x1b[0mpredict\\x1b[0m\\x1b[1;33m(\\x1b[0m\\x1b[0mspektral_data\\x1b[0m\\x1b[1;33m.\\x1b[0m\\x1b[0mread_as_tensor\\x1b[0m\\x1b[1;33m(\\x1b[0m\\x1b[1;33m)\\x1b[0m\\x1b[1;33m,\\x1b[0m\\x1b[0mverbose\\x1b[0m\\x1b[1;33m=\\x1b[0m\\x1b[1;36m1\\x1b[0m\\x1b[1;33m)\\x1b[0m\\x1b[1;33m\\x1b[0m\\x1b[1;33m\\x1b[0m\\x1b[0m\\n\\x1b[0m\\n\\x1b[1;32mc:\\\\Users\\\\isaia\\\\anaconda3\\\\lib\\\\site-packages\\\\keras\\\\utils\\\\traceback_utils.py\\x1b[0m in \\x1b[0;36merror_handler\\x1b[1;34m(*args, **kwargs)\\x1b[0m\\n\\x1b[0;32m     68\\x1b[0m             \\x1b[1;31m# To get the full stack trace, call:\\x1b[0m\\x1b[1;33m\\x1b[0m\\x1b[1;33m\\x1b[0m\\x1b[0m\\n\\x1b[0;32m     69\\x1b[0m             \\x1b[1;31m# `tf.debugging.disable_traceback_filtering()`\\x1b[0m\\x1b[1;33m\\x1b[0m\\x1b[1;33m\\x1b[0m\\x1b[0m\\n\\x1b[1;32m---> 70\\x1b[1;33m             \\x1b[1;32mraise\\x1b[0m \\x1b[0me\\x1b[0m\\x1b[1;33m.\\x1b[0m\\x1b[0mwith_traceback\\x1b[0m\\x1b[1;33m(\\x1b[0m\\x1b[0mfiltered_tb\\x1b[0m\\x1b[1;33m)\\x1b[0m \\x1b[1;32mfrom\\x1b[0m \\x1b[1;32mNone\\x1b[0m\\x1b[1;33m\\x1b[0m\\x1b[1;33m\\x1b[0m\\x1b[0m\\n\\x1b[0m\\x1b[0;32m     71\\x1b[0m         \\x1b[1;32mfinally\\x1b[0m\\x1b[1;33m:\\x1b[0m\\x1b[1;33m\\x1b[0m\\x1b[1;33m\\x1b[0m\\x1b[0m\\n\\x1b[0;32m     72\\x1b[0m             \\x1b[1;32mdel\\x1b[0m \\x1b[0mfiltered_tb\\x1b[0m\\x1b[1;33m\\x1b[0m\\x1b[1;33m\\x1b[0m\\x1b[0m\\n\\n\\x1b[1;32mc:\\\\Users\\\\isaia\\\\anaconda3\\\\lib\\\\site-packages\\\\keras\\\\engine\\\\training.py\\x1b[0m in \\x1b[0;36mtf__predict_function\\x1b[1;34m(iterator)\\x1b[0m\\n\\x1b[0;32m     13\\x1b[0m                 \\x1b[1;32mtry\\x1b[0m\\x1b[1;33m:\\x1b[0m\\x1b[1;33m\\x1b[0m\\x1b[1;33m\\x1b[0m\\x1b[0m\\n\\x1b[0;32m     14\\x1b[0m                     \\x1b[0mdo_return\\x1b[0m \\x1b[1;33m=\\x1b[0m \\x1b[1;32mTrue\\x1b[0m\\x1b[1;33m\\x1b[0m\\x1b[1;33m\\x1b[0m\\x1b[0m\\n\\x1b[1;32m---> 15\\x1b[1;33m                     \\x1b[0mretval_\\x1b[0m \\x1b[1;33m=\\x1b[0m \\x1b[0mag__\\x1b[0m\\x1b[1;33m.\\x1b[0m\\x1b[0mconverted_call\\x1b[0m\\x1b[1;33m(\\x1b[0m\\x1b[0mag__\\x1b[0m\\x1b[1;33m.\\x1b[0m\\x1b[0mld\\x1b[0m\\x1b[1;33m(\\x1b[0m\\x1b[0mstep_function\\x1b[0m\\x1b[1;33m)\\x1b[0m\\x1b[1;33m,\\x1b[0m \\x1b[1;33m(\\x1b[0m\\x1b[0mag__\\x1b[0m\\x1b[1;33m.\\x1b[0m\\x1b[0mld\\x1b[0m\\x1b[1;33m(\\x1b[0m\\x1b[0mself\\x1b[0m\\x1b[1;33m)\\x1b[0m\\x1b[1;33m,\\x1b[0m \\x1b[0mag__\\x1b[0m\\x1b[1;33m.\\x1b[0m\\x1b[0mld\\x1b[0m\\x1b[1;33m(\\x1b[0m\\x1b[0miterator\\x1b[0m\\x1b[1;33m)\\x1b[0m\\x1b[1;33m)\\x1b[0m\\x1b[1;33m,\\x1b[0m \\x1b[1;32mNone\\x1b[0m\\x1b[1;33m,\\x1b[0m \\x1b[0mfscope\\x1b[0m\\x1b[1;33m)\\x1b[0m\\x1b[1;33m\\x1b[0m\\x1b[1;33m\\x1b[0m\\x1b[0m\\n\\x1b[0m\\x1b[0;32m     16\\x1b[0m                 \\x1b[1;32mexcept\\x1b[0m\\x1b[1;33m:\\x1b[0m\\x1b[1;33m\\x1b[0m\\x1b[1;33m\\x1b[0m\\x1b[0m\\n\\x1b[0;32m     17\\x1b[0m                     \\x1b[0mdo_return\\x1b[0m \\x1b[1;33m=\\x1b[0m \\x1b[1;32mFalse\\x1b[0m\\x1b[1;33m\\x1b[0m\\x1b[1;33m\\x1b[0m\\x1b[0m\\n\\n\\x1b[1;31mValueError\\x1b[0m: in user code:\\n\\n    File \"c:\\\\Users\\\\isaia\\\\anaconda3\\\\lib\\\\site-packages\\\\keras\\\\engine\\\\training.py\", line 2041, in predict_function  *\\n        return step_function(self, iterator)\\n    File \"c:\\\\Users\\\\isaia\\\\anaconda3\\\\lib\\\\site-packages\\\\keras\\\\engine\\\\training.py\", line 2027, in step_function  **\\n        outputs = model.distribute_strategy.run(run_step, args=(data,))\\n    File \"c:\\\\Users\\\\isaia\\\\anaconda3\\\\lib\\\\site-packages\\\\keras\\\\engine\\\\training.py\", line 2015, in run_step  **\\n        outputs = model.predict_step(data)\\n    File \"c:\\\\Users\\\\isaia\\\\anaconda3\\\\lib\\\\site-packages\\\\keras\\\\engine\\\\training.py\", line 1983, in predict_step\\n        return self(x, training=False)\\n    File \"c:\\\\Users\\\\isaia\\\\anaconda3\\\\lib\\\\site-packages\\\\keras\\\\utils\\\\traceback_utils.py\", line 70, in error_handler\\n        raise e.with_traceback(filtered_tb) from None\\n\\n    ValueError: Exception encountered when calling layer \"gcn_conv_1\" \"                 f\"(type GCNConv).\\n    \\n    Could not find matching concrete function to call loaded from the SavedModel. Got:\\n      Positional arguments (1 total):\\n        * [<tf.Tensor \\'inputs:0\\' shape=(None, 2010, 4) dtype=float32>,\\n     <tf.Tensor \\'inputs_1:0\\' shape=(None, 2010, 2010) dtype=float32>]\\n      Keyword arguments: {}\\n    \\n     Expected these arguments to match one of the following 1 option(s):\\n    \\n    Option 1:\\n      Positional arguments (1 total):\\n        * [TensorSpec(shape=(None, 2010, 4), dtype=tf.float32, name=\\'inputs/0\\'),\\n     SparseTensorSpec(TensorShape([None, None, None]), tf.float32)]\\n      Keyword arguments: {}\\n    \\n    Call arguments received by layer \"gcn_conv_1\" \"                 f\"(type GCNConv):\\n      • args=([\\'tf.Tensor(shape=(None, 2010, 4), dtype=float32)\\', \\'tf.Tensor(shape=(None, 2010, 2010), dtype=float32)\\'],)\\n      • kwargs=<class \\'inspect._empty\\'>\\n')\n"
     ]
    }
   ],
   "source": [
    "stacktrace = \"in user code:\\n\\n    File \\\"c:\\\\Users\\\\isaia\\\\anaconda3\\\\lib\\\\site-packages\\\\keras\\\\engine\\\\training.py\\\", line 2041, in predict_function  *\\n        return step_function(self, iterator)\\n    File \\\"c:\\\\Users\\\\isaia\\\\anaconda3\\\\lib\\\\site-packages\\\\keras\\\\engine\\\\training.py\\\", line 2027, in step_function  **\\n        outputs = model.distribute_strategy.run(run_step, args=(data,))\\n    File \\\"c:\\\\Users\\\\isaia\\\\anaconda3\\\\lib\\\\site-packages\\\\keras\\\\engine\\\\training.py\\\", line 2015, in run_step  **\\n        outputs = model.predict_step(data)\\n    File \\\"c:\\\\Users\\\\isaia\\\\anaconda3\\\\lib\\\\site-packages\\\\keras\\\\engine\\\\training.py\\\", line 1983, in predict_step\\n        return self(x, training=False)\\n    File \\\"c:\\\\Users\\\\isaia\\\\anaconda3\\\\lib\\\\site-packages\\\\keras\\\\utils\\\\traceback_utils.py\\\", line 70, in error_handler\\n        raise e.with_traceback(filtered_tb) from None\\n\\n    ValueError: Exception encountered when calling layer \\\"gcn_conv_1\\\" \\\"                 f\\\"(type GCNConv).\\n    \\n    Could not find matching concrete function to call loaded from the SavedModel. Got:\\n      Positional arguments (1 total):\\n        * [<tf.Tensor 'inputs:0' shape=(None, 2010, 4) dtype=float32>,\\n     <tf.Tensor 'inputs_1:0' shape=(None, 2010, 2010) dtype=float32>]\\n      Keyword arguments: {}\\n    \\n     Expected these arguments to match one of the following 1 option(s):\\n    \\n    Option 1:\\n      Positional arguments (1 total):\\n        * [TensorSpec(shape=(None, 2010, 4), dtype=tf.float32, name='inputs/0'),\\n     SparseTensorSpec(TensorShape([None, None, None]), tf.float32)]\\n      Keyword arguments: {}\\n    \\n    Call arguments received by layer \\\"gcn_conv_1\\\" \\\"                 f\\\"(type GCNConv):\\n      • args=(['tf.Tensor(shape=(None, 2010, 4), dtype=float32)', 'tf.Tensor(shape=(None, 2010, 2010), dtype=float32)'],)\\n      • kwargs=<class 'inspect._empty'>\\n\", \"stack\" \"\\u001b[1;31m---------------------------------------------------------------------------\\u001b[0m\\n\\u001b[1;31mValueError\\u001b[0m                                Traceback (most recent call last)\\n\\u001b[1;32m~\\\\AppData\\\\Local\\\\Temp\\\\ipykernel_15280\\\\224924416.py\\u001b[0m in \\u001b[0;36m<module>\\u001b[1;34m\\u001b[0m\\n\\u001b[0;32m     29\\u001b[0m \\u001b[1;33m\\u001b[0m\\u001b[0m\\n\\u001b[0;32m     30\\u001b[0m \\u001b[0mprint\\u001b[0m\\u001b[1;33m(\\u001b[0m\\u001b[1;34m\\\"i swear its true\\\"\\u001b[0m\\u001b[1;33m)\\u001b[0m\\u001b[1;33m\\u001b[0m\\u001b[1;33m\\u001b[0m\\u001b[0m\\n\\u001b[1;32m---> 31\\u001b[1;33m \\u001b[0mtest_results\\u001b[0m\\u001b[1;33m[\\u001b[0m\\u001b[1;34m\\\"predict\\\"\\u001b[0m\\u001b[1;33m]\\u001b[0m \\u001b[1;33m=\\u001b[0m \\u001b[0mmodel\\u001b[0m\\u001b[1;33m.\\u001b[0m\\u001b[0mpredict\\u001b[0m\\u001b[1;33m(\\u001b[0m\\u001b[0mspektral_data\\u001b[0m\\u001b[1;33m.\\u001b[0m\\u001b[0mread_as_tensor\\u001b[0m\\u001b[1;33m(\\u001b[0m\\u001b[1;33m)\\u001b[0m\\u001b[1;33m,\\u001b[0m\\u001b[0mverbose\\u001b[0m\\u001b[1;33m=\\u001b[0m\\u001b[1;36m1\\u001b[0m\\u001b[1;33m)\\u001b[0m\\u001b[1;33m\\u001b[0m\\u001b[1;33m\\u001b[0m\\u001b[0m\\n\\u001b[0m\\n\\u001b[1;32mc:\\\\Users\\\\isaia\\\\anaconda3\\\\lib\\\\site-packages\\\\keras\\\\utils\\\\traceback_utils.py\\u001b[0m in \\u001b[0;36merror_handler\\u001b[1;34m(*args, **kwargs)\\u001b[0m\\n\\u001b[0;32m     68\\u001b[0m             \\u001b[1;31m# To get the full stack trace, call:\\u001b[0m\\u001b[1;33m\\u001b[0m\\u001b[1;33m\\u001b[0m\\u001b[0m\\n\\u001b[0;32m     69\\u001b[0m             \\u001b[1;31m# `tf.debugging.disable_traceback_filtering()`\\u001b[0m\\u001b[1;33m\\u001b[0m\\u001b[1;33m\\u001b[0m\\u001b[0m\\n\\u001b[1;32m---> 70\\u001b[1;33m             \\u001b[1;32mraise\\u001b[0m \\u001b[0me\\u001b[0m\\u001b[1;33m.\\u001b[0m\\u001b[0mwith_traceback\\u001b[0m\\u001b[1;33m(\\u001b[0m\\u001b[0mfiltered_tb\\u001b[0m\\u001b[1;33m)\\u001b[0m \\u001b[1;32mfrom\\u001b[0m \\u001b[1;32mNone\\u001b[0m\\u001b[1;33m\\u001b[0m\\u001b[1;33m\\u001b[0m\\u001b[0m\\n\\u001b[0m\\u001b[0;32m     71\\u001b[0m         \\u001b[1;32mfinally\\u001b[0m\\u001b[1;33m:\\u001b[0m\\u001b[1;33m\\u001b[0m\\u001b[1;33m\\u001b[0m\\u001b[0m\\n\\u001b[0;32m     72\\u001b[0m             \\u001b[1;32mdel\\u001b[0m \\u001b[0mfiltered_tb\\u001b[0m\\u001b[1;33m\\u001b[0m\\u001b[1;33m\\u001b[0m\\u001b[0m\\n\\n\\u001b[1;32mc:\\\\Users\\\\isaia\\\\anaconda3\\\\lib\\\\site-packages\\\\keras\\\\engine\\\\training.py\\u001b[0m in \\u001b[0;36mtf__predict_function\\u001b[1;34m(iterator)\\u001b[0m\\n\\u001b[0;32m     13\\u001b[0m                 \\u001b[1;32mtry\\u001b[0m\\u001b[1;33m:\\u001b[0m\\u001b[1;33m\\u001b[0m\\u001b[1;33m\\u001b[0m\\u001b[0m\\n\\u001b[0;32m     14\\u001b[0m                     \\u001b[0mdo_return\\u001b[0m \\u001b[1;33m=\\u001b[0m \\u001b[1;32mTrue\\u001b[0m\\u001b[1;33m\\u001b[0m\\u001b[1;33m\\u001b[0m\\u001b[0m\\n\\u001b[1;32m---> 15\\u001b[1;33m                     \\u001b[0mretval_\\u001b[0m \\u001b[1;33m=\\u001b[0m \\u001b[0mag__\\u001b[0m\\u001b[1;33m.\\u001b[0m\\u001b[0mconverted_call\\u001b[0m\\u001b[1;33m(\\u001b[0m\\u001b[0mag__\\u001b[0m\\u001b[1;33m.\\u001b[0m\\u001b[0mld\\u001b[0m\\u001b[1;33m(\\u001b[0m\\u001b[0mstep_function\\u001b[0m\\u001b[1;33m)\\u001b[0m\\u001b[1;33m,\\u001b[0m \\u001b[1;33m(\\u001b[0m\\u001b[0mag__\\u001b[0m\\u001b[1;33m.\\u001b[0m\\u001b[0mld\\u001b[0m\\u001b[1;33m(\\u001b[0m\\u001b[0mself\\u001b[0m\\u001b[1;33m)\\u001b[0m\\u001b[1;33m,\\u001b[0m \\u001b[0mag__\\u001b[0m\\u001b[1;33m.\\u001b[0m\\u001b[0mld\\u001b[0m\\u001b[1;33m(\\u001b[0m\\u001b[0miterator\\u001b[0m\\u001b[1;33m)\\u001b[0m\\u001b[1;33m)\\u001b[0m\\u001b[1;33m,\\u001b[0m \\u001b[1;32mNone\\u001b[0m\\u001b[1;33m,\\u001b[0m \\u001b[0mfscope\\u001b[0m\\u001b[1;33m)\\u001b[0m\\u001b[1;33m\\u001b[0m\\u001b[1;33m\\u001b[0m\\u001b[0m\\n\\u001b[0m\\u001b[0;32m     16\\u001b[0m                 \\u001b[1;32mexcept\\u001b[0m\\u001b[1;33m:\\u001b[0m\\u001b[1;33m\\u001b[0m\\u001b[1;33m\\u001b[0m\\u001b[0m\\n\\u001b[0;32m     17\\u001b[0m                     \\u001b[0mdo_return\\u001b[0m \\u001b[1;33m=\\u001b[0m \\u001b[1;32mFalse\\u001b[0m\\u001b[1;33m\\u001b[0m\\u001b[1;33m\\u001b[0m\\u001b[0m\\n\\n\\u001b[1;31mValueError\\u001b[0m: in user code:\\n\\n    File \\\"c:\\\\Users\\\\isaia\\\\anaconda3\\\\lib\\\\site-packages\\\\keras\\\\engine\\\\training.py\\\", line 2041, in predict_function  *\\n        return step_function(self, iterator)\\n    File \\\"c:\\\\Users\\\\isaia\\\\anaconda3\\\\lib\\\\site-packages\\\\keras\\\\engine\\\\training.py\\\", line 2027, in step_function  **\\n        outputs = model.distribute_strategy.run(run_step, args=(data,))\\n    File \\\"c:\\\\Users\\\\isaia\\\\anaconda3\\\\lib\\\\site-packages\\\\keras\\\\engine\\\\training.py\\\", line 2015, in run_step  **\\n        outputs = model.predict_step(data)\\n    File \\\"c:\\\\Users\\\\isaia\\\\anaconda3\\\\lib\\\\site-packages\\\\keras\\\\engine\\\\training.py\\\", line 1983, in predict_step\\n        return self(x, training=False)\\n    File \\\"c:\\\\Users\\\\isaia\\\\anaconda3\\\\lib\\\\site-packages\\\\keras\\\\utils\\\\traceback_utils.py\\\", line 70, in error_handler\\n        raise e.with_traceback(filtered_tb) from None\\n\\n    ValueError: Exception encountered when calling layer \\\"gcn_conv_1\\\" \\\"                 f\\\"(type GCNConv).\\n    \\n    Could not find matching concrete function to call loaded from the SavedModel. Got:\\n      Positional arguments (1 total):\\n        * [<tf.Tensor 'inputs:0' shape=(None, 2010, 4) dtype=float32>,\\n     <tf.Tensor 'inputs_1:0' shape=(None, 2010, 2010) dtype=float32>]\\n      Keyword arguments: {}\\n    \\n     Expected these arguments to match one of the following 1 option(s):\\n    \\n    Option 1:\\n      Positional arguments (1 total):\\n        * [TensorSpec(shape=(None, 2010, 4), dtype=tf.float32, name='inputs/0'),\\n     SparseTensorSpec(TensorShape([None, None, None]), tf.float32)]\\n      Keyword arguments: {}\\n    \\n    Call arguments received by layer \\\"gcn_conv_1\\\" \\\"                 f\\\"(type GCNConv):\\n      • args=(['tf.Tensor(shape=(None, 2010, 4), dtype=float32)', 'tf.Tensor(shape=(None, 2010, 2010), dtype=float32)'],)\\n      • kwargs=<class 'inspect._empty'>\\n\"\n",
    "print(stacktrace)"
   ]
  }
 ],
 "metadata": {
  "kernelspec": {
   "display_name": "Python 3.9.13 ('base')",
   "language": "python",
   "name": "python3"
  },
  "language_info": {
   "codemirror_mode": {
    "name": "ipython",
    "version": 3
   },
   "file_extension": ".py",
   "mimetype": "text/x-python",
   "name": "python",
   "nbconvert_exporter": "python",
   "pygments_lexer": "ipython3",
   "version": "3.9.13"
  },
  "orig_nbformat": 4,
  "vscode": {
   "interpreter": {
    "hash": "e8925b37b1a653f8dda59e6f375a02ba9326e974ada61cdec1c8fddee584b161"
   }
  }
 },
 "nbformat": 4,
 "nbformat_minor": 2
}
